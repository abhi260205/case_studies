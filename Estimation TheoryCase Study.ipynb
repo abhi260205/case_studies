{
 "cells": [
  {
   "cell_type": "code",
   "execution_count": 1,
   "metadata": {
    "id": "V2AfBc03wF9d"
   },
   "outputs": [],
   "source": [
    "import numpy as np\n",
    "from scipy.stats import norm\n",
    "from math import sqrt"
   ]
  },
  {
   "cell_type": "code",
   "execution_count": 2,
   "metadata": {
    "id": "IA_xqSE7vPzy"
   },
   "outputs": [],
   "source": [
    "# Question 1: Probability of the mean lifetime of batteries being less than 58 months\n",
    "\n",
    "mean_lifetime = 60  \n",
    "std_dev = 6  \n",
    "sample_size = 40\n",
    "sample_mean = 58"
   ]
  },
  {
   "cell_type": "code",
   "execution_count": 3,
   "metadata": {
    "id": "EEMpfxirvPxE"
   },
   "outputs": [],
   "source": [
    "\n",
    "std_error = std_dev / sqrt(sample_size)"
   ]
  },
  {
   "cell_type": "code",
   "execution_count": 4,
   "metadata": {
    "id": "Qcv2acbyvPuM"
   },
   "outputs": [],
   "source": [
    "\n",
    "z_score_q1 = (sample_mean - mean_lifetime) / std_error"
   ]
  },
  {
   "cell_type": "code",
   "execution_count": 5,
   "metadata": {
    "id": "CwBfU6K5vPrT"
   },
   "outputs": [],
   "source": [
    "\n",
    "prob_q1 = norm.cdf(z_score_q1)\n"
   ]
  },
  {
   "cell_type": "code",
   "execution_count": 6,
   "metadata": {
    "colab": {
     "base_uri": "https://localhost:8080/",
     "height": 0
    },
    "id": "8zhwhZGfvPoS",
    "outputId": "1689a1bd-a957-4a05-b038-6ac80214753b"
   },
   "outputs": [
    {
     "name": "stdout",
     "output_type": "stream",
     "text": [
      "Q1: The probability that the mean lifetime is less than 58 months is 0.0175\n"
     ]
    }
   ],
   "source": [
    "print(f\"Q1: The probability that the mean lifetime is less than 58 months is {prob_q1:.4f}\")\n"
   ]
  },
  {
   "cell_type": "code",
   "execution_count": 7,
   "metadata": {
    "id": "4an15AizvPlj"
   },
   "outputs": [],
   "source": [
    "# Question 2: 95% confidence interval for the mean usage in Q1 2019\n",
    "\n",
    "sample_mean_q2 = 310  # kWh\n",
    "std_dev_q2 = 89  # kWh\n",
    "sample_size_q2 = 40\n",
    "confidence_level = 0.95"
   ]
  },
  {
   "cell_type": "code",
   "execution_count": 8,
   "metadata": {
    "id": "HlAgrgw0vPir"
   },
   "outputs": [],
   "source": [
    "\n",
    "std_error_q2 = std_dev_q2 / sqrt(sample_size_q2)\n"
   ]
  },
  {
   "cell_type": "code",
   "execution_count": 9,
   "metadata": {
    "id": "QZkAlbztvPfz"
   },
   "outputs": [],
   "source": [
    "\n",
    "z_value = norm.ppf(1 - (1 - confidence_level) / 2)"
   ]
  },
  {
   "cell_type": "code",
   "execution_count": 10,
   "metadata": {
    "id": "p4h0k7QvvPc8"
   },
   "outputs": [],
   "source": [
    "\n",
    "lower_bound = sample_mean_q2 - z_value * std_error_q2\n",
    "upper_bound = sample_mean_q2 + z_value * std_error_q2"
   ]
  },
  {
   "cell_type": "code",
   "execution_count": 11,
   "metadata": {
    "colab": {
     "base_uri": "https://localhost:8080/",
     "height": 0
    },
    "id": "Zx7a0YtkvPZz",
    "outputId": "25c94bed-70e2-40f2-95e3-6b74ceb969bd"
   },
   "outputs": [
    {
     "name": "stdout",
     "output_type": "stream",
     "text": [
      "Q2: The 95% confidence interval for mean usage is (282.42, 337.58) kWh\n"
     ]
    }
   ],
   "source": [
    "print(f\"Q2: The 95% confidence interval for mean usage is ({lower_bound:.2f}, {upper_bound:.2f}) kWh\")"
   ]
  },
  {
   "cell_type": "code",
   "execution_count": 12,
   "metadata": {
    "colab": {
     "base_uri": "https://localhost:8080/",
     "height": 0
    },
    "id": "TpNgvTLXvPWq",
    "outputId": "ef5c8a60-7c87-4d48-a0b7-638eea40b67f"
   },
   "outputs": [
    {
     "name": "stdout",
     "output_type": "stream",
     "text": [
      "Q3: Null hypothesis (H0): Mean waiting time = 4.5 minutes\n",
      "Alternative hypothesis (Ha): Mean waiting time ≠ 4.5 minutes\n"
     ]
    }
   ],
   "source": [
    "# Question 3: Hypothesis testing for mean waiting time\n",
    "\n",
    "\n",
    "print(\"Q3: Null hypothesis (H0): Mean waiting time = 4.5 minutes\")\n",
    "print(\"Alternative hypothesis (Ha): Mean waiting time ≠ 4.5 minutes\")"
   ]
  },
  {
   "cell_type": "code",
   "execution_count": 13,
   "metadata": {
    "id": "5nI7VdtXvPUD"
   },
   "outputs": [],
   "source": [
    "# Question 4: P-value for a two-tailed z-test\n",
    "z_stat_q4 = 2.007"
   ]
  },
  {
   "cell_type": "code",
   "execution_count": 14,
   "metadata": {
    "id": "aaxDPPzUvPQ6"
   },
   "outputs": [],
   "source": [
    "\n",
    "p_value_q4 = 2 * (1 - norm.cdf(abs(z_stat_q4)))"
   ]
  },
  {
   "cell_type": "code",
   "execution_count": 15,
   "metadata": {
    "colab": {
     "base_uri": "https://localhost:8080/",
     "height": 0
    },
    "id": "HVP_u8gDvPOE",
    "outputId": "510640c0-7b9a-409b-98b5-ead2dd3088e9"
   },
   "outputs": [
    {
     "name": "stdout",
     "output_type": "stream",
     "text": [
      "Q4: The p-value for the two-tailed z-test is 0.0447\n"
     ]
    }
   ],
   "source": [
    "print(f\"Q4: The p-value for the two-tailed z-test is {p_value_q4:.4f}\")"
   ]
  },
  {
   "cell_type": "code",
   "execution_count": 16,
   "metadata": {
    "id": "HGFurNHwvPK7"
   },
   "outputs": [],
   "source": [
    "# Question 5: Statistical analysis for mean household income\n",
    "\n",
    "sample_mean_q5 = 30000  \n",
    "population_mean_q5 = 29000  \n",
    "std_dev_q5 = 8000  \n",
    "sample_size_q5 = 400\n",
    "alpha = 0.05"
   ]
  },
  {
   "cell_type": "code",
   "execution_count": 17,
   "metadata": {
    "id": "6TgkJEFkvPIU"
   },
   "outputs": [],
   "source": [
    "\n",
    "std_error_q5 = std_dev_q5 / sqrt(sample_size_q5)"
   ]
  },
  {
   "cell_type": "code",
   "execution_count": 18,
   "metadata": {
    "id": "hD4GHgc1vPFe"
   },
   "outputs": [],
   "source": [
    "\n",
    "z_score_q5 = (sample_mean_q5 - population_mean_q5) / std_error_q5\n"
   ]
  },
  {
   "cell_type": "code",
   "execution_count": 19,
   "metadata": {
    "id": "AUwpcjC3vPCr"
   },
   "outputs": [],
   "source": [
    "\n",
    "p_value_q5 = 1 - norm.cdf(z_score_q5)\n"
   ]
  },
  {
   "cell_type": "code",
   "execution_count": 20,
   "metadata": {
    "colab": {
     "base_uri": "https://localhost:8080/",
     "height": 0
    },
    "id": "GZhvAoeJvO_8",
    "outputId": "0fce3dac-5749-44c3-f8b7-89f81678ac4f"
   },
   "outputs": [
    {
     "name": "stdout",
     "output_type": "stream",
     "text": [
      "Q5: Z-score for the test is 2.5000\n",
      "Q5: P-value for the one-tailed test is 0.0062\n"
     ]
    }
   ],
   "source": [
    "print(f\"Q5: Z-score for the test is {z_score_q5:.4f}\")\n",
    "print(f\"Q5: P-value for the one-tailed test is {p_value_q5:.4f}\")"
   ]
  },
  {
   "cell_type": "code",
   "execution_count": 21,
   "metadata": {
    "colab": {
     "base_uri": "https://localhost:8080/",
     "height": 0
    },
    "id": "-enPXkxAvO9D",
    "outputId": "cf333b11-f73a-49af-cfdc-4fe394074081"
   },
   "outputs": [
    {
     "name": "stdout",
     "output_type": "stream",
     "text": [
      "Q5: Reject the null hypothesis. The product line should be introduced.\n"
     ]
    }
   ],
   "source": [
    "\n",
    "if p_value_q5 < alpha:\n",
    "    print(\"Q5: Reject the null hypothesis. The product line should be introduced.\")\n",
    "else:\n",
    "    print(\"Q5: Fail to reject the null hypothesis. The product line should not be introduced.\")"
   ]
  }
 ],
 "metadata": {
  "colab": {
   "provenance": []
  },
  "kernelspec": {
   "display_name": "Python 3",
   "name": "python3"
  },
  "language_info": {
   "codemirror_mode": {
    "name": "ipython",
    "version": 3
   },
   "file_extension": ".py",
   "mimetype": "text/x-python",
   "name": "python",
   "nbconvert_exporter": "python",
   "pygments_lexer": "ipython3",
   "version": "3.11.4"
  }
 },
 "nbformat": 4,
 "nbformat_minor": 0
}
